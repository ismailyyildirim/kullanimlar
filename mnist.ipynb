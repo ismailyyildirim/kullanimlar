{
  "nbformat": 4,
  "nbformat_minor": 0,
  "metadata": {
    "colab": {
      "name": "mnist.ipynb",
      "provenance": [],
      "collapsed_sections": [],
      "authorship_tag": "ABX9TyN42gQ3YH67oP+YhsTVbJZJ",
      "include_colab_link": true
    },
    "kernelspec": {
      "name": "python3",
      "display_name": "Python 3"
    }
  },
  "cells": [
    {
      "cell_type": "markdown",
      "metadata": {
        "id": "view-in-github",
        "colab_type": "text"
      },
      "source": [
        "<a href=\"https://colab.research.google.com/github/ismailyyildirim/kullanimlar/blob/master/mnist.ipynb\" target=\"_parent\"><img src=\"https://colab.research.google.com/assets/colab-badge.svg\" alt=\"Open In Colab\"/></a>"
      ]
    },
    {
      "cell_type": "markdown",
      "metadata": {
        "id": "VEDStXwpvgKC"
      },
      "source": [
        "# Kerasta MNİST veri setini yüklemek"
      ]
    },
    {
      "cell_type": "code",
      "metadata": {
        "id": "p6VjOHavvcbp"
      },
      "source": [
        "from keras.datasets import mnist\r\n",
        "\r\n",
        "(train_images, train_labels), (test_images, test_labels) = mnist.load_data()"
      ],
      "execution_count": 83,
      "outputs": []
    },
    {
      "cell_type": "markdown",
      "metadata": {
        "id": "POFU6-gvv00K"
      },
      "source": [
        "train_images ve train_labels modelimizin öğrenmek için kullanacağı eğitim veri setini oluşturmaktadır. Modelimiz daga sonra test veri setini oluşturan test_images ve test_labels üzerinde test edilecektir. Görüntüler Numpy dizisi olarak kodlanmış ve etiketler 0 ile 9 arasındaki rakamlardan oluşan birer dizidir. Görüntüler ve etiketler arasında birebir ilişki vardır."
      ]
    },
    {
      "cell_type": "code",
      "metadata": {
        "colab": {
          "base_uri": "https://localhost:8080/"
        },
        "id": "-1MTCeWTvwyi",
        "outputId": "6be4d82d-7988-4b73-a9e3-a673674e8333"
      },
      "source": [
        "print(\"train_images: \",train_images.shape)\r\n",
        "print(\"test_images: \",test_images.shape)"
      ],
      "execution_count": 85,
      "outputs": [
        {
          "output_type": "stream",
          "text": [
            "train_images:  (60000, 28, 28)\n",
            "test_images:  (10000, 28, 28)\n"
          ],
          "name": "stdout"
        }
      ]
    },
    {
      "cell_type": "markdown",
      "metadata": {
        "id": "KF6y-bx9wwHT"
      },
      "source": [
        "Akışımız şu şekilde olacak: Önce sinir ağımızı eğitim veri seti ile besleyeceğiz ve ağımız görüntüüler ile etiketleri eşleştirmeyi öğrenecek. Sonra test_images için ağımızın tahminlerini üretip son olarak test_labels ile ağımızın ürettiği sonuçları aynı olup olmadığını kontrol edeceğiz.\r\n",
        "Şimdi ağımızı oluşturuyoruz."
      ]
    },
    {
      "cell_type": "markdown",
      "metadata": {
        "id": "FjQ78tsByEly"
      },
      "source": [
        "# Ağ Mimarisi"
      ]
    },
    {
      "cell_type": "code",
      "metadata": {
        "id": "4HvctD7zwky4"
      },
      "source": [
        "from keras import layers\r\n",
        "from keras import models\r\n",
        "\r\n",
        "network = models.Sequential()\r\n",
        "network.add(layers.Dense(512, activation='relu', input_shape=(28 * 28,)))\r\n",
        "network.add(layers.Dense(10, activation='softmax'))"
      ],
      "execution_count": 90,
      "outputs": []
    },
    {
      "cell_type": "markdown",
      "metadata": {
        "id": "Wl5DADPWzfAR"
      },
      "source": [
        "Derin ağların temel yapı taşı, veri için filtre olarak düşünülebilecek veri işleme modülü olan katmanlardır. Veri katmana ham hali ile girer ve daha kullanışlı bir formda çıkar. Katmanlar kendisini besleyen verilerden problemin çözümünde yardımcı olacak daha anlamlı gösterimler çıkartmaya çalışırlar. Derin öğrenme süreci çoğunlukla basit katmanları üst üste getirerek verinin ilerledikçe daha da artırılmasını sağlayan bir yapıdır. "
      ]
    }
  ]
}